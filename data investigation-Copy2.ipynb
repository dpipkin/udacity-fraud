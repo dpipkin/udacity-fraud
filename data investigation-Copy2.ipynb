{
 "cells": [
  {
   "cell_type": "code",
   "execution_count": 1,
   "metadata": {
    "collapsed": true
   },
   "outputs": [],
   "source": [
    "import pickle\n",
    "import pandas as pd\n",
    "import numpy as np\n",
    "import matplotlib.pyplot as plt"
   ]
  },
  {
   "cell_type": "code",
   "execution_count": 2,
   "metadata": {
    "collapsed": true
   },
   "outputs": [],
   "source": [
    "data = pickle.load(open('final_project/final_project_dataset.pkl'))"
   ]
  },
  {
   "cell_type": "code",
   "execution_count": 3,
   "metadata": {
    "collapsed": true
   },
   "outputs": [],
   "source": [
    "df = pd.DataFrame.from_dict(data, orient='index')"
   ]
  },
  {
   "cell_type": "code",
   "execution_count": 4,
   "metadata": {},
   "outputs": [
    {
     "name": "stderr",
     "output_type": "stream",
     "text": [
      "/home/daniel/miniconda3/envs/udacity-fraud/lib/python2.7/site-packages/ipykernel_launcher.py:1: FutureWarning: convert_objects is deprecated.  Use the data-type specific converters pd.to_datetime, pd.to_timedelta and pd.to_numeric.\n",
      "  \"\"\"Entry point for launching an IPython kernel.\n"
     ]
    }
   ],
   "source": [
    "df = df.convert_objects(convert_numeric=True)"
   ]
  },
  {
   "cell_type": "code",
   "execution_count": 5,
   "metadata": {
    "collapsed": true
   },
   "outputs": [],
   "source": [
    "df['email_address'] = df['email_address'].astype('string')"
   ]
  },
  {
   "cell_type": "code",
   "execution_count": 6,
   "metadata": {},
   "outputs": [
    {
     "data": {
      "text/plain": [
       "ALLEN PHILLIP K          phillip.allen@enron.com\n",
       "BADUM JAMES P                                NaN\n",
       "BANNANTINE JAMES M    james.bannantine@enron.com\n",
       "BAXTER JOHN C                                NaN\n",
       "BAY FRANKLIN R               frank.bay@enron.com\n",
       "BAZELIDES PHILIP J                           NaN\n",
       "BECK SALLY W                sally.beck@enron.com\n",
       "BELDEN TIMOTHY N            tim.belden@enron.com\n",
       "BELFER ROBERT                                NaN\n",
       "BERBERIAN DAVID        david.berberian@enron.com\n",
       "Name: email_address, dtype: object"
      ]
     },
     "execution_count": 6,
     "metadata": {},
     "output_type": "execute_result"
    }
   ],
   "source": [
    "df['email_address'] = df['email_address'].replace('NaN', np.nan)\n",
    "df['email_address'].head(10)"
   ]
  },
  {
   "cell_type": "code",
   "execution_count": 7,
   "metadata": {},
   "outputs": [
    {
     "data": {
      "text/plain": [
       "146"
      ]
     },
     "execution_count": 7,
     "metadata": {},
     "output_type": "execute_result"
    }
   ],
   "source": [
    "len(df)"
   ]
  },
  {
   "cell_type": "code",
   "execution_count": 8,
   "metadata": {},
   "outputs": [
    {
     "data": {
      "text/plain": [
       "18"
      ]
     },
     "execution_count": 8,
     "metadata": {},
     "output_type": "execute_result"
    }
   ],
   "source": [
    "df['poi'].sum()"
   ]
  },
  {
   "cell_type": "code",
   "execution_count": 9,
   "metadata": {},
   "outputs": [
    {
     "data": {
      "text/plain": [
       "Index([u'THE TRAVEL AGENCY IN THE PARK'], dtype='object')"
      ]
     },
     "execution_count": 9,
     "metadata": {},
     "output_type": "execute_result"
    }
   ],
   "source": [
    "df.index[df.index.map(len) == 29]"
   ]
  },
  {
   "cell_type": "code",
   "execution_count": 10,
   "metadata": {
    "collapsed": true
   },
   "outputs": [],
   "source": [
    "df = df.drop(['THE TRAVEL AGENCY IN THE PARK', 'TOTAL'])"
   ]
  },
  {
   "cell_type": "code",
   "execution_count": 11,
   "metadata": {
    "collapsed": true
   },
   "outputs": [
    {
     "data": {
      "text/plain": [
       "salary                        50\n",
       "to_messages                   58\n",
       "deferral_payments            106\n",
       "total_payments                21\n",
       "exercised_stock_options       43\n",
       "bonus                         63\n",
       "restricted_stock              35\n",
       "shared_receipt_with_poi       58\n",
       "restricted_stock_deferred    127\n",
       "total_stock_value             19\n",
       "expenses                      50\n",
       "loan_advances                141\n",
       "from_messages                 58\n",
       "other                         53\n",
       "from_this_person_to_poi       58\n",
       "poi                            0\n",
       "director_fees                128\n",
       "deferred_income               96\n",
       "long_term_incentive           79\n",
       "email_address                 33\n",
       "from_poi_to_this_person       58\n",
       "dtype: int64"
      ]
     },
     "execution_count": 11,
     "metadata": {},
     "output_type": "execute_result"
    }
   ],
   "source": [
    "df.isnull().sum()"
   ]
  },
  {
   "cell_type": "code",
   "execution_count": 12,
   "metadata": {
    "collapsed": true
   },
   "outputs": [],
   "source": [
    "df['log_total_payments'] = np.log(df['total_payments'])"
   ]
  },
  {
   "cell_type": "code",
   "execution_count": 13,
   "metadata": {
    "collapsed": true
   },
   "outputs": [],
   "source": [
    "from sklearn.feature_selection import SelectKBest"
   ]
  },
  {
   "cell_type": "code",
   "execution_count": 14,
   "metadata": {
    "collapsed": true
   },
   "outputs": [],
   "source": [
    "select = SelectKBest(k=10)"
   ]
  },
  {
   "cell_type": "code",
   "execution_count": 15,
   "metadata": {
    "collapsed": true
   },
   "outputs": [],
   "source": [
    "X = df.drop(['poi', 'email_address'], axis=1).values"
   ]
  },
  {
   "cell_type": "code",
   "execution_count": 16,
   "metadata": {
    "collapsed": true
   },
   "outputs": [],
   "source": [
    "y = df['poi'].values"
   ]
  },
  {
   "cell_type": "code",
   "execution_count": 17,
   "metadata": {
    "collapsed": true
   },
   "outputs": [],
   "source": [
    "df = df.drop('email_address', axis=1)"
   ]
  },
  {
   "cell_type": "code",
   "execution_count": 18,
   "metadata": {
    "collapsed": true
   },
   "outputs": [],
   "source": [
    "from sklearn.tree import DecisionTreeClassifier"
   ]
  },
  {
   "cell_type": "code",
   "execution_count": 19,
   "metadata": {
    "collapsed": true
   },
   "outputs": [],
   "source": [
    "tree = DecisionTreeClassifier()"
   ]
  },
  {
   "cell_type": "code",
   "execution_count": 20,
   "metadata": {
    "collapsed": true
   },
   "outputs": [],
   "source": [
    "df['percent_to_poi'] = df['from_this_person_to_poi'] / df['from_messages']"
   ]
  },
  {
   "cell_type": "code",
   "execution_count": 21,
   "metadata": {
    "collapsed": true
   },
   "outputs": [],
   "source": [
    "df['percent_from_poi'] = df['from_poi_to_this_person'] / df['to_messages']"
   ]
  },
  {
   "cell_type": "code",
   "execution_count": 22,
   "metadata": {
    "collapsed": true
   },
   "outputs": [],
   "source": [
    "zeroed = df.fillna(0)"
   ]
  },
  {
   "cell_type": "code",
   "execution_count": 23,
   "metadata": {
    "collapsed": true
   },
   "outputs": [],
   "source": [
    "X = zeroed.drop('poi', axis=1).values\n",
    "y = zeroed['poi'].values"
   ]
  },
  {
   "cell_type": "code",
   "execution_count": 24,
   "metadata": {
    "collapsed": true
   },
   "outputs": [
    {
     "data": {
      "text/html": [
       "<div>\n",
       "<style>\n",
       "    .dataframe thead tr:only-child th {\n",
       "        text-align: right;\n",
       "    }\n",
       "\n",
       "    .dataframe thead th {\n",
       "        text-align: left;\n",
       "    }\n",
       "\n",
       "    .dataframe tbody tr th {\n",
       "        vertical-align: top;\n",
       "    }\n",
       "</style>\n",
       "<table border=\"1\" class=\"dataframe\">\n",
       "  <thead>\n",
       "    <tr style=\"text-align: right;\">\n",
       "      <th></th>\n",
       "      <th>score</th>\n",
       "    </tr>\n",
       "  </thead>\n",
       "  <tbody>\n",
       "    <tr>\n",
       "      <th>exercised_stock_options</th>\n",
       "      <td>25.097542</td>\n",
       "    </tr>\n",
       "    <tr>\n",
       "      <th>total_stock_value</th>\n",
       "      <td>24.467654</td>\n",
       "    </tr>\n",
       "    <tr>\n",
       "      <th>bonus</th>\n",
       "      <td>21.060002</td>\n",
       "    </tr>\n",
       "    <tr>\n",
       "      <th>salary</th>\n",
       "      <td>18.575703</td>\n",
       "    </tr>\n",
       "    <tr>\n",
       "      <th>percent_to_poi</th>\n",
       "      <td>16.641707</td>\n",
       "    </tr>\n",
       "    <tr>\n",
       "      <th>deferred_income</th>\n",
       "      <td>11.595548</td>\n",
       "    </tr>\n",
       "    <tr>\n",
       "      <th>long_term_incentive</th>\n",
       "      <td>10.072455</td>\n",
       "    </tr>\n",
       "    <tr>\n",
       "      <th>restricted_stock</th>\n",
       "      <td>9.346701</td>\n",
       "    </tr>\n",
       "    <tr>\n",
       "      <th>total_payments</th>\n",
       "      <td>8.873835</td>\n",
       "    </tr>\n",
       "    <tr>\n",
       "      <th>shared_receipt_with_poi</th>\n",
       "      <td>8.746486</td>\n",
       "    </tr>\n",
       "    <tr>\n",
       "      <th>loan_advances</th>\n",
       "      <td>7.242730</td>\n",
       "    </tr>\n",
       "    <tr>\n",
       "      <th>log_total_payments</th>\n",
       "      <td>6.711528</td>\n",
       "    </tr>\n",
       "    <tr>\n",
       "      <th>expenses</th>\n",
       "      <td>6.234201</td>\n",
       "    </tr>\n",
       "    <tr>\n",
       "      <th>from_poi_to_this_person</th>\n",
       "      <td>5.344942</td>\n",
       "    </tr>\n",
       "    <tr>\n",
       "      <th>other</th>\n",
       "      <td>4.246154</td>\n",
       "    </tr>\n",
       "    <tr>\n",
       "      <th>percent_from_poi</th>\n",
       "      <td>3.210762</td>\n",
       "    </tr>\n",
       "    <tr>\n",
       "      <th>from_this_person_to_poi</th>\n",
       "      <td>2.426508</td>\n",
       "    </tr>\n",
       "    <tr>\n",
       "      <th>director_fees</th>\n",
       "      <td>2.107656</td>\n",
       "    </tr>\n",
       "    <tr>\n",
       "      <th>to_messages</th>\n",
       "      <td>1.698824</td>\n",
       "    </tr>\n",
       "    <tr>\n",
       "      <th>deferral_payments</th>\n",
       "      <td>0.217059</td>\n",
       "    </tr>\n",
       "    <tr>\n",
       "      <th>from_messages</th>\n",
       "      <td>0.164164</td>\n",
       "    </tr>\n",
       "    <tr>\n",
       "      <th>restricted_stock_deferred</th>\n",
       "      <td>0.064984</td>\n",
       "    </tr>\n",
       "  </tbody>\n",
       "</table>\n",
       "</div>"
      ],
      "text/plain": [
       "                               score\n",
       "exercised_stock_options    25.097542\n",
       "total_stock_value          24.467654\n",
       "bonus                      21.060002\n",
       "salary                     18.575703\n",
       "percent_to_poi             16.641707\n",
       "deferred_income            11.595548\n",
       "long_term_incentive        10.072455\n",
       "restricted_stock            9.346701\n",
       "total_payments              8.873835\n",
       "shared_receipt_with_poi     8.746486\n",
       "loan_advances               7.242730\n",
       "log_total_payments          6.711528\n",
       "expenses                    6.234201\n",
       "from_poi_to_this_person     5.344942\n",
       "other                       4.246154\n",
       "percent_from_poi            3.210762\n",
       "from_this_person_to_poi     2.426508\n",
       "director_fees               2.107656\n",
       "to_messages                 1.698824\n",
       "deferral_payments           0.217059\n",
       "from_messages               0.164164\n",
       "restricted_stock_deferred   0.064984"
      ]
     },
     "execution_count": 24,
     "metadata": {},
     "output_type": "execute_result"
    }
   ],
   "source": [
    "select.fit(X, y)\n",
    "pd.DataFrame(select.scores_, columns=['score'], index=zeroed.drop('poi', axis=1).columns).sort_values('score', ascending=False)"
   ]
  },
  {
   "cell_type": "code",
   "execution_count": 25,
   "metadata": {},
   "outputs": [
    {
     "data": {
      "text/plain": [
       "DecisionTreeClassifier(class_weight=None, criterion='gini', max_depth=None,\n",
       "            max_features=None, max_leaf_nodes=None,\n",
       "            min_impurity_decrease=0.0, min_impurity_split=None,\n",
       "            min_samples_leaf=1, min_samples_split=2,\n",
       "            min_weight_fraction_leaf=0.0, presort=False, random_state=None,\n",
       "            splitter='best')"
      ]
     },
     "execution_count": 25,
     "metadata": {},
     "output_type": "execute_result"
    }
   ],
   "source": [
    "tree.fit(X, y)"
   ]
  },
  {
   "cell_type": "code",
   "execution_count": 26,
   "metadata": {
    "collapsed": true
   },
   "outputs": [
    {
     "data": {
      "text/html": [
       "<div>\n",
       "<style>\n",
       "    .dataframe thead tr:only-child th {\n",
       "        text-align: right;\n",
       "    }\n",
       "\n",
       "    .dataframe thead th {\n",
       "        text-align: left;\n",
       "    }\n",
       "\n",
       "    .dataframe tbody tr th {\n",
       "        vertical-align: top;\n",
       "    }\n",
       "</style>\n",
       "<table border=\"1\" class=\"dataframe\">\n",
       "  <thead>\n",
       "    <tr style=\"text-align: right;\">\n",
       "      <th></th>\n",
       "      <th>score</th>\n",
       "    </tr>\n",
       "  </thead>\n",
       "  <tbody>\n",
       "    <tr>\n",
       "      <th>exercised_stock_options</th>\n",
       "      <td>0.323000</td>\n",
       "    </tr>\n",
       "    <tr>\n",
       "      <th>other</th>\n",
       "      <td>0.190136</td>\n",
       "    </tr>\n",
       "    <tr>\n",
       "      <th>percent_to_poi</th>\n",
       "      <td>0.136054</td>\n",
       "    </tr>\n",
       "    <tr>\n",
       "      <th>expenses</th>\n",
       "      <td>0.119346</td>\n",
       "    </tr>\n",
       "    <tr>\n",
       "      <th>shared_receipt_with_poi</th>\n",
       "      <td>0.118636</td>\n",
       "    </tr>\n",
       "    <tr>\n",
       "      <th>salary</th>\n",
       "      <td>0.084656</td>\n",
       "    </tr>\n",
       "    <tr>\n",
       "      <th>restricted_stock</th>\n",
       "      <td>0.028171</td>\n",
       "    </tr>\n",
       "    <tr>\n",
       "      <th>log_total_payments</th>\n",
       "      <td>0.000000</td>\n",
       "    </tr>\n",
       "    <tr>\n",
       "      <th>from_poi_to_this_person</th>\n",
       "      <td>0.000000</td>\n",
       "    </tr>\n",
       "    <tr>\n",
       "      <th>long_term_incentive</th>\n",
       "      <td>0.000000</td>\n",
       "    </tr>\n",
       "    <tr>\n",
       "      <th>deferred_income</th>\n",
       "      <td>0.000000</td>\n",
       "    </tr>\n",
       "    <tr>\n",
       "      <th>director_fees</th>\n",
       "      <td>0.000000</td>\n",
       "    </tr>\n",
       "    <tr>\n",
       "      <th>from_this_person_to_poi</th>\n",
       "      <td>0.000000</td>\n",
       "    </tr>\n",
       "    <tr>\n",
       "      <th>loan_advances</th>\n",
       "      <td>0.000000</td>\n",
       "    </tr>\n",
       "    <tr>\n",
       "      <th>from_messages</th>\n",
       "      <td>0.000000</td>\n",
       "    </tr>\n",
       "    <tr>\n",
       "      <th>to_messages</th>\n",
       "      <td>0.000000</td>\n",
       "    </tr>\n",
       "    <tr>\n",
       "      <th>total_stock_value</th>\n",
       "      <td>0.000000</td>\n",
       "    </tr>\n",
       "    <tr>\n",
       "      <th>restricted_stock_deferred</th>\n",
       "      <td>0.000000</td>\n",
       "    </tr>\n",
       "    <tr>\n",
       "      <th>bonus</th>\n",
       "      <td>0.000000</td>\n",
       "    </tr>\n",
       "    <tr>\n",
       "      <th>total_payments</th>\n",
       "      <td>0.000000</td>\n",
       "    </tr>\n",
       "    <tr>\n",
       "      <th>deferral_payments</th>\n",
       "      <td>0.000000</td>\n",
       "    </tr>\n",
       "    <tr>\n",
       "      <th>percent_from_poi</th>\n",
       "      <td>0.000000</td>\n",
       "    </tr>\n",
       "  </tbody>\n",
       "</table>\n",
       "</div>"
      ],
      "text/plain": [
       "                              score\n",
       "exercised_stock_options    0.323000\n",
       "other                      0.190136\n",
       "percent_to_poi             0.136054\n",
       "expenses                   0.119346\n",
       "shared_receipt_with_poi    0.118636\n",
       "salary                     0.084656\n",
       "restricted_stock           0.028171\n",
       "log_total_payments         0.000000\n",
       "from_poi_to_this_person    0.000000\n",
       "long_term_incentive        0.000000\n",
       "deferred_income            0.000000\n",
       "director_fees              0.000000\n",
       "from_this_person_to_poi    0.000000\n",
       "loan_advances              0.000000\n",
       "from_messages              0.000000\n",
       "to_messages                0.000000\n",
       "total_stock_value          0.000000\n",
       "restricted_stock_deferred  0.000000\n",
       "bonus                      0.000000\n",
       "total_payments             0.000000\n",
       "deferral_payments          0.000000\n",
       "percent_from_poi           0.000000"
      ]
     },
     "execution_count": 26,
     "metadata": {},
     "output_type": "execute_result"
    }
   ],
   "source": [
    "select.fit(X, y)\n",
    "pd.DataFrame(tree.feature_importances_, columns=['score'], index=zeroed.drop('poi', axis=1).columns).sort_values('score', ascending=False)"
   ]
  },
  {
   "cell_type": "code",
   "execution_count": 56,
   "metadata": {
    "collapsed": true
   },
   "outputs": [
    {
     "data": {
      "text/html": [
       "<div>\n",
       "<style>\n",
       "    .dataframe thead tr:only-child th {\n",
       "        text-align: right;\n",
       "    }\n",
       "\n",
       "    .dataframe thead th {\n",
       "        text-align: left;\n",
       "    }\n",
       "\n",
       "    .dataframe tbody tr th {\n",
       "        vertical-align: top;\n",
       "    }\n",
       "</style>\n",
       "<table border=\"1\" class=\"dataframe\">\n",
       "  <thead>\n",
       "    <tr style=\"text-align: right;\">\n",
       "      <th></th>\n",
       "      <th>pvalue</th>\n",
       "    </tr>\n",
       "  </thead>\n",
       "  <tbody>\n",
       "    <tr>\n",
       "      <th>exercised_stock_options</th>\n",
       "      <td>0.000002</td>\n",
       "    </tr>\n",
       "    <tr>\n",
       "      <th>total_stock_value</th>\n",
       "      <td>0.000002</td>\n",
       "    </tr>\n",
       "    <tr>\n",
       "      <th>bonus</th>\n",
       "      <td>0.000010</td>\n",
       "    </tr>\n",
       "    <tr>\n",
       "      <th>salary</th>\n",
       "      <td>0.000030</td>\n",
       "    </tr>\n",
       "    <tr>\n",
       "      <th>percent_to_poi</th>\n",
       "      <td>0.000075</td>\n",
       "    </tr>\n",
       "    <tr>\n",
       "      <th>deferred_income</th>\n",
       "      <td>0.000860</td>\n",
       "    </tr>\n",
       "    <tr>\n",
       "      <th>long_term_incentive</th>\n",
       "      <td>0.001845</td>\n",
       "    </tr>\n",
       "    <tr>\n",
       "      <th>restricted_stock</th>\n",
       "      <td>0.002670</td>\n",
       "    </tr>\n",
       "    <tr>\n",
       "      <th>total_payments</th>\n",
       "      <td>0.003403</td>\n",
       "    </tr>\n",
       "    <tr>\n",
       "      <th>shared_receipt_with_poi</th>\n",
       "      <td>0.003634</td>\n",
       "    </tr>\n",
       "    <tr>\n",
       "      <th>loan_advances</th>\n",
       "      <td>0.007974</td>\n",
       "    </tr>\n",
       "    <tr>\n",
       "      <th>log_total_payments</th>\n",
       "      <td>0.010578</td>\n",
       "    </tr>\n",
       "    <tr>\n",
       "      <th>expenses</th>\n",
       "      <td>0.013673</td>\n",
       "    </tr>\n",
       "    <tr>\n",
       "      <th>from_poi_to_this_person</th>\n",
       "      <td>0.022221</td>\n",
       "    </tr>\n",
       "    <tr>\n",
       "      <th>other</th>\n",
       "      <td>0.041164</td>\n",
       "    </tr>\n",
       "    <tr>\n",
       "      <th>percent_from_poi</th>\n",
       "      <td>0.075285</td>\n",
       "    </tr>\n",
       "    <tr>\n",
       "      <th>from_this_person_to_poi</th>\n",
       "      <td>0.121524</td>\n",
       "    </tr>\n",
       "    <tr>\n",
       "      <th>director_fees</th>\n",
       "      <td>0.148769</td>\n",
       "    </tr>\n",
       "    <tr>\n",
       "      <th>to_messages</th>\n",
       "      <td>0.194551</td>\n",
       "    </tr>\n",
       "    <tr>\n",
       "      <th>deferral_payments</th>\n",
       "      <td>0.642004</td>\n",
       "    </tr>\n",
       "    <tr>\n",
       "      <th>from_messages</th>\n",
       "      <td>0.685961</td>\n",
       "    </tr>\n",
       "    <tr>\n",
       "      <th>restricted_stock_deferred</th>\n",
       "      <td>0.799154</td>\n",
       "    </tr>\n",
       "  </tbody>\n",
       "</table>\n",
       "</div>"
      ],
      "text/plain": [
       "                             pvalue\n",
       "exercised_stock_options    0.000002\n",
       "total_stock_value          0.000002\n",
       "bonus                      0.000010\n",
       "salary                     0.000030\n",
       "percent_to_poi             0.000075\n",
       "deferred_income            0.000860\n",
       "long_term_incentive        0.001845\n",
       "restricted_stock           0.002670\n",
       "total_payments             0.003403\n",
       "shared_receipt_with_poi    0.003634\n",
       "loan_advances              0.007974\n",
       "log_total_payments         0.010578\n",
       "expenses                   0.013673\n",
       "from_poi_to_this_person    0.022221\n",
       "other                      0.041164\n",
       "percent_from_poi           0.075285\n",
       "from_this_person_to_poi    0.121524\n",
       "director_fees              0.148769\n",
       "to_messages                0.194551\n",
       "deferral_payments          0.642004\n",
       "from_messages              0.685961\n",
       "restricted_stock_deferred  0.799154"
      ]
     },
     "execution_count": 56,
     "metadata": {},
     "output_type": "execute_result"
    }
   ],
   "source": [
    "pd.DataFrame(select.pvalues_, columns=['pvalue'], index=zeroed.drop('poi', axis=1).columns).sort_values('pvalue')"
   ]
  },
  {
   "cell_type": "code",
   "execution_count": 22,
   "metadata": {
    "collapsed": true
   },
   "outputs": [],
   "source": [
    "from sklearn.naive_bayes import GaussianNB\n",
    "from sklearn.ensemble import RandomForestClassifier\n",
    "from sklearn.ensemble import GradientBoostingClassifier\n",
    "from sklearn.svm import LinearSVC\n",
    "from sklearn.dummy import DummyClassifier"
   ]
  },
  {
   "cell_type": "code",
   "execution_count": 24,
   "metadata": {
    "collapsed": true
   },
   "outputs": [],
   "source": [
    "X = zeroed.drop('poi', axis=1)[['exercised_stock_options','percent_to_poi','shared_receipt_with_poi', 'total_stock_value', 'bonus', 'salary']].values\n",
    "y = zeroed['poi'].values"
   ]
  },
  {
   "cell_type": "code",
   "execution_count": 25,
   "metadata": {},
   "outputs": [
    {
     "data": {
      "text/plain": [
       "False    126\n",
       "True      18\n",
       "Name: poi, dtype: int64"
      ]
     },
     "execution_count": 25,
     "metadata": {},
     "output_type": "execute_result"
    }
   ],
   "source": [
    "zeroed['poi'].value_counts()"
   ]
  },
  {
   "cell_type": "code",
   "execution_count": 70,
   "metadata": {
    "collapsed": true
   },
   "outputs": [],
   "source": [
    "def plot_confusion_matrix(cm, classes, name):\n",
    "    cm = cm.astype('float') / cm.sum(axis=1)[:, np.newaxis]\n",
    "    plt.imshow(cm, interpolation='nearest', cmap=plt.cm.Blues)\n",
    "    plt.title(name)\n",
    "    plt.colorbar()\n",
    "    tick_marks = np.arange(len(classes))\n",
    "    plt.xticks(tick_marks, classes, rotation=45)\n",
    "    plt.yticks(tick_marks, classes)\n",
    "    \n",
    "    fmt = '.2f'\n",
    "    thresh = cm.max() / 2.\n",
    "    for i, j in itertools.product(range(cm.shape[0]), range(cm.shape[1])):\n",
    "        plt.text(j, i, format(cm[i, j], fmt),\n",
    "                 horizontalalignment=\"center\",\n",
    "                 color=\"white\" if cm[i, j] > thresh else \"black\")\n",
    "    plt.ylabel('True label')\n",
    "    plt.xlabel('Predicted label')"
   ]
  },
  {
   "cell_type": "code",
   "execution_count": 64,
   "metadata": {
    "collapsed": true
   },
   "outputs": [],
   "source": [
    "def plot_confusion_matrix(cm, classes, name):\n",
    "#     cm = cm.astype('float') / cm.sum(axis=1)[:, np.newaxis]\n",
    "    plt.imshow(cm, interpolation='nearest', cmap=plt.cm.Blues)\n",
    "    plt.title(name)\n",
    "    plt.colorbar()\n",
    "    tick_marks = np.arange(len(classes))\n",
    "    plt.xticks(tick_marks, classes, rotation=45)\n",
    "    plt.yticks(tick_marks, classes)\n",
    "    \n",
    "    fmt = '.2f'\n",
    "    thresh = cm.max() / 2.\n",
    "    for i, j in itertools.product(range(cm.shape[0]), range(cm.shape[1])):\n",
    "        plt.text(j, i, format(cm[i, j], fmt),\n",
    "                 horizontalalignment=\"center\",\n",
    "                 color=\"white\" if cm[i, j] > thresh else \"black\")\n",
    "    plt.ylabel('True label')\n",
    "    plt.xlabel('Predicted label')"
   ]
  },
  {
   "cell_type": "code",
   "execution_count": 26,
   "metadata": {
    "collapsed": true
   },
   "outputs": [],
   "source": [
    "names = ['Naive Bayes', 'Random Forest', 'Gradient Boosting', 'SVM', 'Dummy']"
   ]
  },
  {
   "cell_type": "code",
   "execution_count": 27,
   "metadata": {
    "collapsed": true
   },
   "outputs": [],
   "source": [
    "from sklearn.metrics import confusion_matrix"
   ]
  },
  {
   "cell_type": "code",
   "execution_count": 74,
   "metadata": {
    "collapsed": true
   },
   "outputs": [],
   "source": [
    "from sklearn.model_selection import KFold"
   ]
  },
  {
   "cell_type": "code",
   "execution_count": 28,
   "metadata": {
    "collapsed": true
   },
   "outputs": [],
   "source": [
    "from sklearn.metrics import accuracy_score"
   ]
  },
  {
   "cell_type": "code",
   "execution_count": 29,
   "metadata": {
    "collapsed": true
   },
   "outputs": [],
   "source": [
    "from sklearn.metrics import precision_score\n",
    "from sklearn.metrics import recall_score"
   ]
  },
  {
   "cell_type": "code",
   "execution_count": 30,
   "metadata": {
    "collapsed": true
   },
   "outputs": [],
   "source": [
    "from sklearn.base import clone"
   ]
  },
  {
   "cell_type": "code",
   "execution_count": 31,
   "metadata": {
    "collapsed": true
   },
   "outputs": [],
   "source": [
    "import itertools"
   ]
  },
  {
   "cell_type": "code",
   "execution_count": 91,
   "metadata": {
    "collapsed": true
   },
   "outputs": [],
   "source": [
    "kfold = KFold(n_splits=4, random_state=272727)"
   ]
  },
  {
   "cell_type": "code",
   "execution_count": 62,
   "metadata": {
    "collapsed": true
   },
   "outputs": [],
   "source": [
    "plt.rcParams['figure.figsize'] = [15, 4]"
   ]
  },
  {
   "cell_type": "code",
   "execution_count": 34,
   "metadata": {
    "collapsed": true
   },
   "outputs": [],
   "source": [
    "clfs = [GaussianNB(),\n",
    "        RandomForestClassifier(),\n",
    "        GradientBoostingClassifier(),\n",
    "        LinearSVC(class_weight='balanced'),\n",
    "        DummyClassifier()\n",
    "       ]"
   ]
  },
  {
   "cell_type": "code",
   "execution_count": 79,
   "metadata": {
    "collapsed": true
   },
   "outputs": [],
   "source": [
    "cms = [[] for _ in clfs]"
   ]
  },
  {
   "cell_type": "code",
   "execution_count": 80,
   "metadata": {
    "collapsed": true
   },
   "outputs": [],
   "source": [
    "accuracies = [[] for _ in clfs]"
   ]
  },
  {
   "cell_type": "code",
   "execution_count": 81,
   "metadata": {
    "collapsed": true
   },
   "outputs": [],
   "source": [
    "precs = [[] for _ in clfs]"
   ]
  },
  {
   "cell_type": "code",
   "execution_count": 82,
   "metadata": {
    "collapsed": true
   },
   "outputs": [],
   "source": [
    "recs = [[] for _ in clfs]"
   ]
  },
  {
   "cell_type": "code",
   "execution_count": 37,
   "metadata": {
    "collapsed": true
   },
   "outputs": [],
   "source": [
    "from sklearn.model_selection import StratifiedShuffleSplit"
   ]
  },
  {
   "cell_type": "code",
   "execution_count": 78,
   "metadata": {
    "collapsed": true
   },
   "outputs": [],
   "source": [
    "splitter = StratifiedShuffleSplit(n_splits=300, test_size=0.1, random_state=272727)"
   ]
  },
  {
   "cell_type": "code",
   "execution_count": 83,
   "metadata": {
    "collapsed": true
   },
   "outputs": [],
   "source": [
    "for i, clf in enumerate(clfs):\n",
    "    for train, test in splitter.split(X,y):\n",
    "        clf.fit(X[train], y[train])\n",
    "        y_pred = clf.predict(X[test])\n",
    "        cm = confusion_matrix(y[test], y_pred)\n",
    "        cms[i].append(cm)\n",
    "        prec = precision_score(y[test], y_pred)\n",
    "        rec = recall_score(y[test], y_pred)\n",
    "        acc = accuracy_score(y[test], y_pred)\n",
    "        precs[i].append(prec)\n",
    "        recs[i].append(rec)\n",
    "        accuracies[i].append(acc)"
   ]
  },
  {
   "cell_type": "code",
   "execution_count": 84,
   "metadata": {
    "collapsed": true
   },
   "outputs": [],
   "source": [
    "cms = np.array(cms)"
   ]
  },
  {
   "cell_type": "code",
   "execution_count": 87,
   "metadata": {
    "collapsed": true
   },
   "outputs": [],
   "source": [
    "for i, (name, cm) in enumerate(zip(names, cms.mean(axis=1)),1):\n",
    "    plt.subplot(1,5,i)\n",
    "    plot_confusion_matrix(cm, ['False', 'True'], name)"
   ]
  },
  {
   "cell_type": "code",
   "execution_count": 88,
   "metadata": {},
   "outputs": [
    {
     "data": {
      "image/png": "[encoded data removed]",
      "text/plain": [
       "<matplotlib.figure.Figure at 0x7f08b6acce10>"
      ]
     },
     "metadata": {},
     "output_type": "display_data"
    }
   ],
   "source": [
    "plt.show()"
   ]
  },
  {
   "cell_type": "code",
   "execution_count": 89,
   "metadata": {
    "collapsed": true
   },
   "outputs": [],
   "source": [
    "precs = np.array(precs)\n",
    "recs = np.array(recs)\n",
    "accs = np.array(accuracies)"
   ]
  },
  {
   "cell_type": "code",
   "execution_count": 90,
   "metadata": {},
   "outputs": [
    {
     "name": "stdout",
     "output_type": "stream",
     "text": [
      "Naive Bayes: precision 0.4035. recall 0.356666666667. accuracy 0.85.\n",
      "Random Forest: precision 0.348055555556. recall 0.258333333333. accuracy 0.869555555556.\n",
      "Gradient Boosting: precision 0.386833333333. recall 0.313333333333. accuracy 0.856.\n",
      "SVM: precision 0.193183640434. recall 0.35. accuracy 0.753333333333.\n",
      "Dummy: precision 0.110333333333. recall 0.113333333333. accuracy 0.777111111111.\n"
     ]
    }
   ],
   "source": [
    "for name, prec, rec, acc in zip(names, precs.mean(axis=1),\n",
    "                                recs.mean(axis=1), accs.mean(axis=1)):\n",
    "    print('{}: precision {}. recall {}. accuracy {}.'.format(name,prec,rec,acc))"
   ]
  },
  {
   "cell_type": "code",
   "execution_count": 99,
   "metadata": {
    "collapsed": true
   },
   "outputs": [],
   "source": [
    "from sklearn.model_selection import GridSearchCV"
   ]
  },
  {
   "cell_type": "code",
   "execution_count": 110,
   "metadata": {
    "collapsed": true
   },
   "outputs": [],
   "source": [
    "forest_grid = GridSearchCV(clfs[1], {'n_estimators': [5,10,20,50],\n",
    "                                     'max_features': [2, 3, 6]},\n",
    "                           cv=splitter,\n",
    "                           scoring=['precision', 'recall'],\n",
    "                           refit=False\n",
    "                          )"
   ]
  },
  {
   "cell_type": "code",
   "execution_count": 142,
   "metadata": {
    "collapsed": true
   },
   "outputs": [],
   "source": [
    "splitter = StratifiedShuffleSplit(n_splits=527, test_size=0.1, random_state=272727)"
   ]
  },
  {
   "cell_type": "code",
   "execution_count": 143,
   "metadata": {
    "collapsed": true
   },
   "outputs": [],
   "source": [
    "forest_grid = GridSearchCV(clfs[1], {'n_estimators': [20, 25, 30, 35, 40, 45],\n",
    "                                     'max_features': [3, 4, 5]},\n",
    "                           cv=splitter,\n",
    "                           scoring=['precision', 'recall'],\n",
    "                           refit=False\n",
    "                          )"
   ]
  },
  {
   "cell_type": "code",
   "execution_count": 153,
   "metadata": {
    "collapsed": true
   },
   "outputs": [],
   "source": [
    "forest_grid = GridSearchCV(clfs[1], {'n_estimators': [45, 50, 55, 60, 65],\n",
    "                                     'max_features': [5, 6]},\n",
    "                           cv=splitter,\n",
    "                           scoring=['precision', 'recall'],\n",
    "                           refit=False\n",
    "                          )"
   ]
  },
  {
   "cell_type": "code",
   "execution_count": 154,
   "metadata": {},
   "outputs": [
    {
     "data": {
      "text/plain": [
       "GridSearchCV(cv=StratifiedShuffleSplit(n_splits=527, random_state=272727, test_size=0.1,\n",
       "            train_size=None),\n",
       "       error_score='raise',\n",
       "       estimator=RandomForestClassifier(bootstrap=True, class_weight=None, criterion='gini',\n",
       "            max_depth=None, max_features='auto', max_leaf_nodes=None,\n",
       "            min_impurity_decrease=0.0, min_impurity_split=None,\n",
       "            min_samples_leaf=1, min_samples_split=2,\n",
       "            min_weight_fraction_leaf=0.0, n_estimators=10, n_jobs=1,\n",
       "            oob_score=False, random_state=None, verbose=0,\n",
       "            warm_start=False),\n",
       "       fit_params=None, iid=True, n_jobs=1,\n",
       "       param_grid={'n_estimators': [45, 50, 55, 60, 65], 'max_features': [5, 6]},\n",
       "       pre_dispatch='2*n_jobs', refit=False, return_train_score=True,\n",
       "       scoring=['precision', 'recall'], verbose=0)"
      ]
     },
     "execution_count": 154,
     "metadata": {},
     "output_type": "execute_result"
    }
   ],
   "source": [
    "forest_grid.fit(X, y)"
   ]
  },
  {
   "cell_type": "code",
   "execution_count": 155,
   "metadata": {
    "collapsed": true
   },
   "outputs": [],
   "source": [
    "forest_grid_results = pd.DataFrame.from_dict(forest_grid.cv_results_)"
   ]
  },
  {
   "cell_type": "code",
   "execution_count": 158,
   "metadata": {},
   "outputs": [
    {
     "data": {
      "text/plain": [
       "0    0.308349\n",
       "1    0.297913\n",
       "2    0.319734\n",
       "3    0.302657\n",
       "4    0.314042\n",
       "5    0.302657\n",
       "6    0.293169\n",
       "7    0.327324\n",
       "8    0.289374\n",
       "9    0.322581\n",
       "Name: mean_test_recall, dtype: float64"
      ]
     },
     "execution_count": 158,
     "metadata": {},
     "output_type": "execute_result"
    }
   ],
   "source": [
    "forest_grid_results['mean_test_recall']"
   ]
  },
  {
   "cell_type": "code",
   "execution_count": 168,
   "metadata": {
    "collapsed": true
   },
   "outputs": [],
   "source": [
    "forest_grid = GridSearchCV(clfs[1], {'n_estimators': [55],\n",
    "                                     'max_features': [6],\n",
    "                                     'min_impurity_decrease': [0.3,0.4,0.5,0.6,0.7],\n",
    "                                     'class_weight': [None, 'balanced']},\n",
    "                           cv=splitter,\n",
    "                           scoring=['precision', 'recall'],\n",
    "                           refit=False\n",
    "                          )"
   ]
  },
  {
   "cell_type": "code",
   "execution_count": 169,
   "metadata": {},
   "outputs": [
    {
     "data": {
      "text/plain": [
       "GridSearchCV(cv=StratifiedShuffleSplit(n_splits=527, random_state=272727, test_size=0.1,\n",
       "            train_size=None),\n",
       "       error_score='raise',\n",
       "       estimator=RandomForestClassifier(bootstrap=True, class_weight=None, criterion='gini',\n",
       "            max_depth=None, max_features='auto', max_leaf_nodes=None,\n",
       "            min_impurity_decrease=0.0, min_impurity_split=None,\n",
       "            min_samples_leaf=1, min_samples_split=2,\n",
       "            min_weight_fraction_leaf=0.0, n_estimators=10, n_jobs=1,\n",
       "            oob_score=False, random_state=None, verbose=0,\n",
       "            warm_start=False),\n",
       "       fit_params=None, iid=True, n_jobs=1,\n",
       "       param_grid={'n_estimators': [55], 'max_features': [6], 'min_impurity_decrease': [0.3, 0.4, 0.5, 0.6, 0.7], 'class_weight': [None, 'balanced']},\n",
       "       pre_dispatch='2*n_jobs', refit=False, return_train_score=True,\n",
       "       scoring=['precision', 'recall'], verbose=0)"
      ]
     },
     "execution_count": 169,
     "metadata": {},
     "output_type": "execute_result"
    }
   ],
   "source": [
    "forest_grid.fit(X, y)"
   ]
  },
  {
   "cell_type": "code",
   "execution_count": 174,
   "metadata": {
    "collapsed": true
   },
   "outputs": [],
   "source": [
    "forest = RandomForestClassifier(class_weight='balanced', n_estimators=55, max_features=6)"
   ]
  },
  {
   "cell_type": "code",
   "execution_count": 175,
   "metadata": {
    "collapsed": true
   },
   "outputs": [],
   "source": [
    "from sklearn.model_selection import train_test_split"
   ]
  },
  {
   "cell_type": "code",
   "execution_count": 177,
   "metadata": {
    "collapsed": true
   },
   "outputs": [],
   "source": [
    "from sklearn.metrics import roc_curve"
   ]
  },
  {
   "cell_type": "code",
   "execution_count": 176,
   "metadata": {
    "collapsed": true
   },
   "outputs": [],
   "source": [
    "X_train, X_test, y_train, y_test = train_test_split(X, y)"
   ]
  },
  {
   "cell_type": "code",
   "execution_count": 187,
   "metadata": {
    "collapsed": true
   },
   "outputs": [],
   "source": [
    "forest.fit(X_train,y_train)\n",
    "y_probas = forest.predict_proba(X_test)\n",
    "fpr, tpr, _ = roc_curve(y_test, y_probas[:,0])"
   ]
  },
  {
   "cell_type": "code",
   "execution_count": 170,
   "metadata": {
    "collapsed": true
   },
   "outputs": [],
   "source": [
    "forest_grid_results = pd.DataFrame.from_dict(forest_grid.cv_results_)"
   ]
  },
  {
   "cell_type": "code",
   "execution_count": 171,
   "metadata": {},
   "outputs": [
    {
     "data": {
      "text/plain": [
       "0    0.000000\n",
       "1    0.000000\n",
       "2    0.000000\n",
       "3    0.000000\n",
       "4    0.000000\n",
       "5    0.401328\n",
       "6    0.200190\n",
       "7    0.222011\n",
       "8    0.267552\n",
       "9    0.218216\n",
       "Name: mean_test_recall, dtype: float64"
      ]
     },
     "execution_count": 171,
     "metadata": {},
     "output_type": "execute_result"
    }
   ],
   "source": [
    "forest_grid_results['mean_test_recall']"
   ]
  },
  {
   "cell_type": "code",
   "execution_count": 173,
   "metadata": {},
   "outputs": [
    {
     "data": {
      "text/plain": [
       "{'class_weight': 'balanced',\n",
       " 'max_features': 6,\n",
       " 'min_impurity_decrease': 0.3,\n",
       " 'n_estimators': 55}"
      ]
     },
     "execution_count": 173,
     "metadata": {},
     "output_type": "execute_result"
    }
   ],
   "source": [
    "forest_grid_results.iloc[5]['params']"
   ]
  },
  {
   "cell_type": "code",
   "execution_count": 159,
   "metadata": {},
   "outputs": [
    {
     "data": {
      "text/plain": [
       "0    0.368533\n",
       "1    0.370557\n",
       "2    0.391999\n",
       "3    0.385294\n",
       "4    0.385389\n",
       "5    0.360247\n",
       "6    0.359962\n",
       "7    0.385737\n",
       "8    0.341524\n",
       "9    0.378558\n",
       "Name: mean_test_precision, dtype: float64"
      ]
     },
     "execution_count": 159,
     "metadata": {},
     "output_type": "execute_result"
    }
   ],
   "source": [
    "forest_grid_results['mean_test_precision']"
   ]
  },
  {
   "cell_type": "code",
   "execution_count": 160,
   "metadata": {},
   "outputs": [
    {
     "data": {
      "text/plain": [
       "7    0.385737\n",
       "9    0.378558\n",
       "Name: mean_test_precision, dtype: float64"
      ]
     },
     "execution_count": 160,
     "metadata": {},
     "output_type": "execute_result"
    }
   ],
   "source": [
    "forest_grid_results.iloc[[7,9]]['mean_test_precision']"
   ]
  },
  {
   "cell_type": "code",
   "execution_count": 161,
   "metadata": {},
   "outputs": [
    {
     "data": {
      "text/plain": [
       "7    {u'max_features': 6, u'n_estimators': 55}\n",
       "9    {u'max_features': 6, u'n_estimators': 65}\n",
       "Name: params, dtype: object"
      ]
     },
     "execution_count": 161,
     "metadata": {},
     "output_type": "execute_result"
    }
   ],
   "source": [
    "forest_grid_results.iloc[[7,9]]['params']"
   ]
  },
  {
   "cell_type": "code",
   "execution_count": 163,
   "metadata": {
    "collapsed": true
   },
   "outputs": [],
   "source": [
    "forest_grid = GridSearchCV(clfs[1], {'n_estimators': [55, 65, 75, 85],\n",
    "                                     'max_features': [6]},\n",
    "                           cv=splitter,\n",
    "                           scoring=['precision', 'recall'],\n",
    "                           refit=False\n",
    "                          )"
   ]
  },
  {
   "cell_type": "code",
   "execution_count": 164,
   "metadata": {
    "collapsed": true
   },
   "outputs": [
    {
     "data": {
      "text/plain": [
       "GridSearchCV(cv=StratifiedShuffleSplit(n_splits=527, random_state=272727, test_size=0.1,\n",
       "            train_size=None),\n",
       "       error_score='raise',\n",
       "       estimator=RandomForestClassifier(bootstrap=True, class_weight=None, criterion='gini',\n",
       "            max_depth=None, max_features='auto', max_leaf_nodes=None,\n",
       "            min_impurity_decrease=0.0, min_impurity_split=None,\n",
       "            min_samples_leaf=1, min_samples_split=2,\n",
       "            min_weight_fraction_leaf=0.0, n_estimators=10, n_jobs=1,\n",
       "            oob_score=False, random_state=None, verbose=0,\n",
       "            warm_start=False),\n",
       "       fit_params=None, iid=True, n_jobs=1,\n",
       "       param_grid={'n_estimators': [55, 65, 75, 85], 'max_features': [6]},\n",
       "       pre_dispatch='2*n_jobs', refit=False, return_train_score=True,\n",
       "       scoring=['precision', 'recall'], verbose=0)"
      ]
     },
     "execution_count": 164,
     "metadata": {},
     "output_type": "execute_result"
    }
   ],
   "source": [
    "forest_grid.fit(X, y)"
   ]
  },
  {
   "cell_type": "code",
   "execution_count": 165,
   "metadata": {
    "collapsed": true
   },
   "outputs": [],
   "source": [
    "forest_grid_results = pd.DataFrame.from_dict(forest_grid.cv_results_)"
   ]
  },
  {
   "cell_type": "code",
   "execution_count": 166,
   "metadata": {},
   "outputs": [
    {
     "data": {
      "text/plain": [
       "0    0.312144\n",
       "1    0.312144\n",
       "2    0.304554\n",
       "3    0.318786\n",
       "Name: mean_test_recall, dtype: float64"
      ]
     },
     "execution_count": 166,
     "metadata": {},
     "output_type": "execute_result"
    }
   ],
   "source": [
    "forest_grid_results['mean_test_recall']"
   ]
  },
  {
   "cell_type": "code",
   "execution_count": 167,
   "metadata": {},
   "outputs": [
    {
     "data": {
      "text/plain": [
       "0    0.374225\n",
       "1    0.376787\n",
       "2    0.375206\n",
       "3    0.389311\n",
       "Name: mean_test_precision, dtype: float64"
      ]
     },
     "execution_count": 167,
     "metadata": {},
     "output_type": "execute_result"
    }
   ],
   "source": [
    "forest_grid_results['mean_test_precision']"
   ]
  },
  {
   "cell_type": "code",
   "execution_count": 112,
   "metadata": {
    "collapsed": true
   },
   "outputs": [],
   "source": [
    "gradient_grid = GridSearchCV(clfs[2], {'loss': ('deviance', 'exponential'),\n",
    "                                       'n_estimators': [100, 250, 500],\n",
    "                                       'max_depth': [2, 3, 5]},\n",
    "                             cv=splitter,\n",
    "                             scoring=['precision', 'recall'],\n",
    "                             refit=False\n",
    "                            )"
   ]
  },
  {
   "cell_type": "code",
   "execution_count": 113,
   "metadata": {},
   "outputs": [
    {
     "data": {
      "text/plain": [
       "GridSearchCV(cv=StratifiedShuffleSplit(n_splits=300, random_state=272727, test_size=0.1,\n",
       "            train_size=None),\n",
       "       error_score='raise',\n",
       "       estimator=GradientBoostingClassifier(criterion='friedman_mse', init=None,\n",
       "              learning_rate=0.1, loss='deviance', max_depth=3,\n",
       "              max_features=None, max_leaf_nodes=None,\n",
       "              min_impurity_decrease=0.0, min_impurity_split=None,\n",
       "              min_samples_leaf=1, min_samples_split=2,\n",
       "              min_weight_fraction_leaf=0.0, n_estimators=100,\n",
       "              presort='auto', random_state=None, subsample=1.0, verbose=0,\n",
       "              warm_start=False),\n",
       "       fit_params=None, iid=True, n_jobs=1,\n",
       "       param_grid={'n_estimators': [100, 250, 500], 'loss': ('deviance', 'exponential'), 'max_depth': [2, 3, 5]},\n",
       "       pre_dispatch='2*n_jobs', refit=False, return_train_score=True,\n",
       "       scoring=['precision', 'recall'], verbose=0)"
      ]
     },
     "execution_count": 113,
     "metadata": {},
     "output_type": "execute_result"
    }
   ],
   "source": [
    "gradient_grid.fit(X, y)"
   ]
  },
  {
   "cell_type": "code",
   "execution_count": 117,
   "metadata": {
    "collapsed": true
   },
   "outputs": [
    {
     "data": {
      "text/plain": [
       "['split2_train_precision',\n",
       " 'split289_test_recall',\n",
       " 'split8_test_recall',\n",
       " 'split208_test_precision',\n",
       " 'split250_train_precision',\n",
       " 'split39_test_recall',\n",
       " 'split273_test_precision',\n",
       " 'split162_test_precision',\n",
       " 'split292_test_precision',\n",
       " 'split170_test_recall',\n",
       " 'split24_test_precision',\n",
       " 'split206_test_precision',\n",
       " 'split219_test_recall',\n",
       " 'split265_train_recall',\n",
       " 'split82_train_recall',\n",
       " 'split267_train_precision',\n",
       " 'split120_train_recall',\n",
       " 'split174_train_recall',\n",
       " 'split24_test_recall',\n",
       " 'split222_test_precision']"
      ]
     },
     "execution_count": 117,
     "metadata": {},
     "output_type": "execute_result"
    }
   ],
   "source": [
    "forest_grid.cv_results_.keys()[-20:]"
   ]
  },
  {
   "cell_type": "code",
   "execution_count": 120,
   "metadata": {
    "collapsed": true
   },
   "outputs": [],
   "source": [
    "forest_grid_results = pd.DataFrame.from_dict(forest_grid.cv_results_)"
   ]
  },
  {
   "cell_type": "code",
   "execution_count": 123,
   "metadata": {
    "collapsed": true
   },
   "outputs": [],
   "source": [
    "best_forest = RandomForestClassifier(n_estimators=20, max_features=3)"
   ]
  },
  {
   "cell_type": "code",
   "execution_count": 127,
   "metadata": {
    "collapsed": true
   },
   "outputs": [],
   "source": [
    "gradient_grid_results = pd.DataFrame.from_dict(gradient_grid.cv_results_)"
   ]
  },
  {
   "cell_type": "code",
   "execution_count": 131,
   "metadata": {},
   "outputs": [
    {
     "data": {
      "text/plain": [
       "{'loss': 'exponential', 'max_depth': 5, 'n_estimators': 100}"
      ]
     },
     "execution_count": 131,
     "metadata": {},
     "output_type": "execute_result"
    }
   ],
   "source": [
    "gradient_grid_results.iloc[15]['params']"
   ]
  },
  {
   "cell_type": "code",
   "execution_count": 134,
   "metadata": {},
   "outputs": [
    {
     "data": {
      "text/plain": [
       "0.42161904761904762"
      ]
     },
     "execution_count": 134,
     "metadata": {},
     "output_type": "execute_result"
    }
   ],
   "source": [
    "gradient_grid_results.iloc[15]['mean_test_precision']"
   ]
  },
  {
   "cell_type": "code",
   "execution_count": 135,
   "metadata": {},
   "outputs": [
    {
     "data": {
      "text/plain": [
       "0.38666666666666666"
      ]
     },
     "execution_count": 135,
     "metadata": {},
     "output_type": "execute_result"
    }
   ],
   "source": [
    "gradient_grid_results.iloc[15]['mean_test_recall']"
   ]
  },
  {
   "cell_type": "code",
   "execution_count": 133,
   "metadata": {
    "collapsed": true
   },
   "outputs": [],
   "source": [
    "best_gradient = GradientBoostingClassifier(loss='exponential', max_depth=5, n_estimators=100)"
   ]
  },
  {
   "cell_type": "code",
   "execution_count": 118,
   "metadata": {},
   "outputs": [
    {
     "data": {
      "text/plain": [
       "array([ 0.33944444,  0.31166667,  0.35111111,  0.34633333,  0.31938889,\n",
       "        0.33166667,  0.39805556,  0.36444444,  0.33884127,  0.30494444,\n",
       "        0.34861111,  0.3925    ])"
      ]
     },
     "execution_count": 118,
     "metadata": {},
     "output_type": "execute_result"
    }
   ],
   "source": [
    "forest_grid.cv_results_['mean_test_precision']"
   ]
  },
  {
   "cell_type": "code",
   "execution_count": 119,
   "metadata": {},
   "outputs": [
    {
     "data": {
      "text/plain": [
       "array([ 0.28      ,  0.225     ,  0.26333333,  0.26833333,  0.3       ,\n",
       "        0.25166667,  0.285     ,  0.27666667,  0.32666667,  0.26666667,\n",
       "        0.29      ,  0.32333333])"
      ]
     },
     "execution_count": 119,
     "metadata": {},
     "output_type": "execute_result"
    }
   ],
   "source": [
    "forest_grid.cv_results_['mean_test_recall']"
   ]
  },
  {
   "cell_type": "code",
   "execution_count": 125,
   "metadata": {},
   "outputs": [
    {
     "data": {
      "text/plain": [
       "array([ 0.37883333,  0.3665    ,  0.37044444,  0.38905556,  0.38588889,\n",
       "        0.38316667,  0.40423016,  0.41011905,  0.39938889,  0.38922222,\n",
       "        0.38011111,  0.38144444,  0.38127778,  0.38127778,  0.37355556,\n",
       "        0.42161905,  0.40911905,  0.40973016])"
      ]
     },
     "execution_count": 125,
     "metadata": {},
     "output_type": "execute_result"
    }
   ],
   "source": [
    "gradient_grid.cv_results_['mean_test_precision']"
   ]
  },
  {
   "cell_type": "code",
   "execution_count": 126,
   "metadata": {},
   "outputs": [
    {
     "data": {
      "text/plain": [
       "array([ 0.31      ,  0.32      ,  0.32833333,  0.31666667,  0.33      ,\n",
       "        0.33      ,  0.38666667,  0.39333333,  0.37833333,  0.30666667,\n",
       "        0.32666667,  0.33833333,  0.31166667,  0.325     ,  0.32833333,\n",
       "        0.38666667,  0.38      ,  0.385     ])"
      ]
     },
     "execution_count": 126,
     "metadata": {},
     "output_type": "execute_result"
    }
   ],
   "source": [
    "gradient_grid.cv_results_['mean_test_recall']"
   ]
  },
  {
   "cell_type": "code",
   "execution_count": 136,
   "metadata": {
    "collapsed": true
   },
   "outputs": [],
   "source": [
    "from sklearn.tree import DecisionTreeClassifier"
   ]
  },
  {
   "cell_type": "code",
   "execution_count": 137,
   "metadata": {
    "collapsed": true
   },
   "outputs": [],
   "source": [
    "tree = DecisionTreeClassifier()"
   ]
  },
  {
   "cell_type": "code",
   "execution_count": 138,
   "metadata": {
    "collapsed": true
   },
   "outputs": [],
   "source": [
    "tree_grid = GridSearchCV(tree, {'min_samples_split': list(range(2,10))},\n",
    "                         cv=splitter,\n",
    "                         scoring=['precision', 'recall'],\n",
    "                         refit=False\n",
    "                        )"
   ]
  },
  {
   "cell_type": "code",
   "execution_count": 139,
   "metadata": {},
   "outputs": [
    {
     "data": {
      "text/plain": [
       "GridSearchCV(cv=StratifiedShuffleSplit(n_splits=300, random_state=272727, test_size=0.1,\n",
       "            train_size=None),\n",
       "       error_score='raise',\n",
       "       estimator=DecisionTreeClassifier(class_weight=None, criterion='gini', max_depth=None,\n",
       "            max_features=None, max_leaf_nodes=None,\n",
       "            min_impurity_decrease=0.0, min_impurity_split=None,\n",
       "            min_samples_leaf=1, min_samples_split=2,\n",
       "            min_weight_fraction_leaf=0.0, presort=False, random_state=None,\n",
       "            splitter='best'),\n",
       "       fit_params=None, iid=True, n_jobs=1,\n",
       "       param_grid={'min_samples_split': [2, 3, 4, 5, 6, 7, 8, 9]},\n",
       "       pre_dispatch='2*n_jobs', refit=False, return_train_score=True,\n",
       "       scoring=['precision', 'recall'], verbose=0)"
      ]
     },
     "execution_count": 139,
     "metadata": {},
     "output_type": "execute_result"
    }
   ],
   "source": [
    "tree_grid.fit(X,y)"
   ]
  },
  {
   "cell_type": "code",
   "execution_count": 140,
   "metadata": {
    "collapsed": true
   },
   "outputs": [],
   "source": [
    "tree_grid_results = pd.DataFrame.from_dict(tree_grid.cv_results_)"
   ]
  },
  {
   "cell_type": "code",
   "execution_count": 141,
   "metadata": {
    "collapsed": true
   },
   "outputs": [
    {
     "data": {
      "text/html": [
       "<div>\n",
       "<style>\n",
       "    .dataframe thead tr:only-child th {\n",
       "        text-align: right;\n",
       "    }\n",
       "\n",
       "    .dataframe thead th {\n",
       "        text-align: left;\n",
       "    }\n",
       "\n",
       "    .dataframe tbody tr th {\n",
       "        vertical-align: top;\n",
       "    }\n",
       "</style>\n",
       "<table border=\"1\" class=\"dataframe\">\n",
       "  <thead>\n",
       "    <tr style=\"text-align: right;\">\n",
       "      <th></th>\n",
       "      <th>mean_fit_time</th>\n",
       "      <th>mean_score_time</th>\n",
       "      <th>mean_test_precision</th>\n",
       "      <th>mean_test_recall</th>\n",
       "      <th>mean_train_precision</th>\n",
       "      <th>mean_train_recall</th>\n",
       "      <th>param_min_samples_split</th>\n",
       "      <th>params</th>\n",
       "      <th>rank_test_precision</th>\n",
       "      <th>rank_test_recall</th>\n",
       "      <th>...</th>\n",
       "      <th>split9_test_precision</th>\n",
       "      <th>split9_test_recall</th>\n",
       "      <th>split9_train_precision</th>\n",
       "      <th>split9_train_recall</th>\n",
       "      <th>std_fit_time</th>\n",
       "      <th>std_score_time</th>\n",
       "      <th>std_test_precision</th>\n",
       "      <th>std_test_recall</th>\n",
       "      <th>std_train_precision</th>\n",
       "      <th>std_train_recall</th>\n",
       "    </tr>\n",
       "  </thead>\n",
       "  <tbody>\n",
       "    <tr>\n",
       "      <th>0</th>\n",
       "      <td>0.000540</td>\n",
       "      <td>0.001052</td>\n",
       "      <td>0.366008</td>\n",
       "      <td>0.388333</td>\n",
       "      <td>1.000000</td>\n",
       "      <td>1.000000</td>\n",
       "      <td>2</td>\n",
       "      <td>{u'min_samples_split': 2}</td>\n",
       "      <td>1</td>\n",
       "      <td>1</td>\n",
       "      <td>...</td>\n",
       "      <td>0.0</td>\n",
       "      <td>0.0</td>\n",
       "      <td>1.000000</td>\n",
       "      <td>1.0000</td>\n",
       "      <td>0.000129</td>\n",
       "      <td>0.000372</td>\n",
       "      <td>0.348157</td>\n",
       "      <td>0.336696</td>\n",
       "      <td>0.000000</td>\n",
       "      <td>0.000000</td>\n",
       "    </tr>\n",
       "    <tr>\n",
       "      <th>1</th>\n",
       "      <td>0.000517</td>\n",
       "      <td>0.000991</td>\n",
       "      <td>0.353897</td>\n",
       "      <td>0.343333</td>\n",
       "      <td>1.000000</td>\n",
       "      <td>0.929167</td>\n",
       "      <td>3</td>\n",
       "      <td>{u'min_samples_split': 3}</td>\n",
       "      <td>5</td>\n",
       "      <td>4</td>\n",
       "      <td>...</td>\n",
       "      <td>0.0</td>\n",
       "      <td>0.0</td>\n",
       "      <td>1.000000</td>\n",
       "      <td>0.9375</td>\n",
       "      <td>0.000098</td>\n",
       "      <td>0.000185</td>\n",
       "      <td>0.379957</td>\n",
       "      <td>0.342231</td>\n",
       "      <td>0.000000</td>\n",
       "      <td>0.045453</td>\n",
       "    </tr>\n",
       "    <tr>\n",
       "      <th>2</th>\n",
       "      <td>0.000509</td>\n",
       "      <td>0.001017</td>\n",
       "      <td>0.323675</td>\n",
       "      <td>0.326667</td>\n",
       "      <td>0.981949</td>\n",
       "      <td>0.863958</td>\n",
       "      <td>4</td>\n",
       "      <td>{u'min_samples_split': 4}</td>\n",
       "      <td>8</td>\n",
       "      <td>7</td>\n",
       "      <td>...</td>\n",
       "      <td>0.0</td>\n",
       "      <td>0.0</td>\n",
       "      <td>1.000000</td>\n",
       "      <td>0.8125</td>\n",
       "      <td>0.000103</td>\n",
       "      <td>0.000356</td>\n",
       "      <td>0.361466</td>\n",
       "      <td>0.329073</td>\n",
       "      <td>0.032170</td>\n",
       "      <td>0.056784</td>\n",
       "    </tr>\n",
       "    <tr>\n",
       "      <th>3</th>\n",
       "      <td>0.000550</td>\n",
       "      <td>0.001001</td>\n",
       "      <td>0.357175</td>\n",
       "      <td>0.353333</td>\n",
       "      <td>0.968169</td>\n",
       "      <td>0.842917</td>\n",
       "      <td>5</td>\n",
       "      <td>{u'min_samples_split': 5}</td>\n",
       "      <td>4</td>\n",
       "      <td>3</td>\n",
       "      <td>...</td>\n",
       "      <td>0.0</td>\n",
       "      <td>0.0</td>\n",
       "      <td>1.000000</td>\n",
       "      <td>0.8125</td>\n",
       "      <td>0.000262</td>\n",
       "      <td>0.000213</td>\n",
       "      <td>0.367434</td>\n",
       "      <td>0.326837</td>\n",
       "      <td>0.042314</td>\n",
       "      <td>0.060483</td>\n",
       "    </tr>\n",
       "    <tr>\n",
       "      <th>4</th>\n",
       "      <td>0.000521</td>\n",
       "      <td>0.001042</td>\n",
       "      <td>0.358952</td>\n",
       "      <td>0.355000</td>\n",
       "      <td>0.949057</td>\n",
       "      <td>0.833333</td>\n",
       "      <td>6</td>\n",
       "      <td>{u'min_samples_split': 6}</td>\n",
       "      <td>3</td>\n",
       "      <td>2</td>\n",
       "      <td>...</td>\n",
       "      <td>0.0</td>\n",
       "      <td>0.0</td>\n",
       "      <td>1.000000</td>\n",
       "      <td>0.8125</td>\n",
       "      <td>0.000163</td>\n",
       "      <td>0.000423</td>\n",
       "      <td>0.373513</td>\n",
       "      <td>0.333879</td>\n",
       "      <td>0.053240</td>\n",
       "      <td>0.063601</td>\n",
       "    </tr>\n",
       "    <tr>\n",
       "      <th>5</th>\n",
       "      <td>0.000510</td>\n",
       "      <td>0.000990</td>\n",
       "      <td>0.363563</td>\n",
       "      <td>0.341667</td>\n",
       "      <td>0.938062</td>\n",
       "      <td>0.810625</td>\n",
       "      <td>7</td>\n",
       "      <td>{u'min_samples_split': 7}</td>\n",
       "      <td>2</td>\n",
       "      <td>5</td>\n",
       "      <td>...</td>\n",
       "      <td>0.0</td>\n",
       "      <td>0.0</td>\n",
       "      <td>1.000000</td>\n",
       "      <td>0.8125</td>\n",
       "      <td>0.000100</td>\n",
       "      <td>0.000176</td>\n",
       "      <td>0.380441</td>\n",
       "      <td>0.320048</td>\n",
       "      <td>0.056901</td>\n",
       "      <td>0.072415</td>\n",
       "    </tr>\n",
       "    <tr>\n",
       "      <th>6</th>\n",
       "      <td>0.000534</td>\n",
       "      <td>0.001077</td>\n",
       "      <td>0.349167</td>\n",
       "      <td>0.333333</td>\n",
       "      <td>0.928662</td>\n",
       "      <td>0.783750</td>\n",
       "      <td>8</td>\n",
       "      <td>{u'min_samples_split': 8}</td>\n",
       "      <td>6</td>\n",
       "      <td>6</td>\n",
       "      <td>...</td>\n",
       "      <td>0.0</td>\n",
       "      <td>0.0</td>\n",
       "      <td>1.000000</td>\n",
       "      <td>0.7500</td>\n",
       "      <td>0.000147</td>\n",
       "      <td>0.000428</td>\n",
       "      <td>0.374032</td>\n",
       "      <td>0.324893</td>\n",
       "      <td>0.064668</td>\n",
       "      <td>0.083426</td>\n",
       "    </tr>\n",
       "    <tr>\n",
       "      <th>7</th>\n",
       "      <td>0.000517</td>\n",
       "      <td>0.001008</td>\n",
       "      <td>0.338333</td>\n",
       "      <td>0.316667</td>\n",
       "      <td>0.921104</td>\n",
       "      <td>0.743333</td>\n",
       "      <td>9</td>\n",
       "      <td>{u'min_samples_split': 9}</td>\n",
       "      <td>7</td>\n",
       "      <td>8</td>\n",
       "      <td>...</td>\n",
       "      <td>0.0</td>\n",
       "      <td>0.0</td>\n",
       "      <td>0.857143</td>\n",
       "      <td>0.7500</td>\n",
       "      <td>0.000140</td>\n",
       "      <td>0.000245</td>\n",
       "      <td>0.376215</td>\n",
       "      <td>0.321023</td>\n",
       "      <td>0.069631</td>\n",
       "      <td>0.095918</td>\n",
       "    </tr>\n",
       "  </tbody>\n",
       "</table>\n",
       "<p>8 rows × 1216 columns</p>\n",
       "</div>"
      ],
      "text/plain": [
       "   mean_fit_time  mean_score_time  mean_test_precision  mean_test_recall  \\\n",
       "0       0.000540         0.001052             0.366008          0.388333   \n",
       "1       0.000517         0.000991             0.353897          0.343333   \n",
       "2       0.000509         0.001017             0.323675          0.326667   \n",
       "3       0.000550         0.001001             0.357175          0.353333   \n",
       "4       0.000521         0.001042             0.358952          0.355000   \n",
       "5       0.000510         0.000990             0.363563          0.341667   \n",
       "6       0.000534         0.001077             0.349167          0.333333   \n",
       "7       0.000517         0.001008             0.338333          0.316667   \n",
       "\n",
       "   mean_train_precision  mean_train_recall param_min_samples_split  \\\n",
       "0              1.000000           1.000000                       2   \n",
       "1              1.000000           0.929167                       3   \n",
       "2              0.981949           0.863958                       4   \n",
       "3              0.968169           0.842917                       5   \n",
       "4              0.949057           0.833333                       6   \n",
       "5              0.938062           0.810625                       7   \n",
       "6              0.928662           0.783750                       8   \n",
       "7              0.921104           0.743333                       9   \n",
       "\n",
       "                      params  rank_test_precision  rank_test_recall  \\\n",
       "0  {u'min_samples_split': 2}                    1                 1   \n",
       "1  {u'min_samples_split': 3}                    5                 4   \n",
       "2  {u'min_samples_split': 4}                    8                 7   \n",
       "3  {u'min_samples_split': 5}                    4                 3   \n",
       "4  {u'min_samples_split': 6}                    3                 2   \n",
       "5  {u'min_samples_split': 7}                    2                 5   \n",
       "6  {u'min_samples_split': 8}                    6                 6   \n",
       "7  {u'min_samples_split': 9}                    7                 8   \n",
       "\n",
       "         ...         split9_test_precision  split9_test_recall  \\\n",
       "0        ...                           0.0                 0.0   \n",
       "1        ...                           0.0                 0.0   \n",
       "2        ...                           0.0                 0.0   \n",
       "3        ...                           0.0                 0.0   \n",
       "4        ...                           0.0                 0.0   \n",
       "5        ...                           0.0                 0.0   \n",
       "6        ...                           0.0                 0.0   \n",
       "7        ...                           0.0                 0.0   \n",
       "\n",
       "   split9_train_precision  split9_train_recall  std_fit_time  std_score_time  \\\n",
       "0                1.000000               1.0000      0.000129        0.000372   \n",
       "1                1.000000               0.9375      0.000098        0.000185   \n",
       "2                1.000000               0.8125      0.000103        0.000356   \n",
       "3                1.000000               0.8125      0.000262        0.000213   \n",
       "4                1.000000               0.8125      0.000163        0.000423   \n",
       "5                1.000000               0.8125      0.000100        0.000176   \n",
       "6                1.000000               0.7500      0.000147        0.000428   \n",
       "7                0.857143               0.7500      0.000140        0.000245   \n",
       "\n",
       "   std_test_precision  std_test_recall  std_train_precision  std_train_recall  \n",
       "0            0.348157         0.336696             0.000000          0.000000  \n",
       "1            0.379957         0.342231             0.000000          0.045453  \n",
       "2            0.361466         0.329073             0.032170          0.056784  \n",
       "3            0.367434         0.326837             0.042314          0.060483  \n",
       "4            0.373513         0.333879             0.053240          0.063601  \n",
       "5            0.380441         0.320048             0.056901          0.072415  \n",
       "6            0.374032         0.324893             0.064668          0.083426  \n",
       "7            0.376215         0.321023             0.069631          0.095918  \n",
       "\n",
       "[8 rows x 1216 columns]"
      ]
     },
     "execution_count": 141,
     "metadata": {},
     "output_type": "execute_result"
    }
   ],
   "source": [
    "tree_grid_results.head(10)"
   ]
  },
  {
   "cell_type": "code",
   "execution_count": 91,
   "metadata": {
    "collapsed": true
   },
   "outputs": [],
   "source": [
    "from sklearn.preprocessing import MinMaxScaler"
   ]
  },
  {
   "cell_type": "code",
   "execution_count": 92,
   "metadata": {
    "collapsed": true
   },
   "outputs": [],
   "source": [
    "scaler = MinMaxScaler()"
   ]
  },
  {
   "cell_type": "code",
   "execution_count": 95,
   "metadata": {
    "collapsed": true
   },
   "outputs": [],
   "source": [
    "X_scaled = scaler.fit_transform(X)"
   ]
  },
  {
   "cell_type": "code",
   "execution_count": 96,
   "metadata": {
    "collapsed": true
   },
   "outputs": [],
   "source": [
    "svm_accs = []\n",
    "svm_precs = []\n",
    "svm_recs = []"
   ]
  },
  {
   "cell_type": "code",
   "execution_count": 97,
   "metadata": {
    "collapsed": true
   },
   "outputs": [],
   "source": [
    "for train, test in splitter.split(X_scaled, y):\n",
    "    clfs[3].fit(X_scaled[train], y[train])\n",
    "    y_pred = clfs[3].predict(X_scaled[test])\n",
    "    svm_accs.append(accuracy_score(y[test], y_pred))\n",
    "    svm_precs.append(precision_score(y[test], y_pred))\n",
    "    svm_recs.append(recall_score(y[test], y_pred))"
   ]
  },
  {
   "cell_type": "code",
   "execution_count": 98,
   "metadata": {},
   "outputs": [
    {
     "name": "stdout",
     "output_type": "stream",
     "text": [
      "SVM: accuracy 0.769777777778. precision 0.351027777778. recall 0.668333333333.\n"
     ]
    }
   ],
   "source": [
    "print('SVM: accuracy {}. precision {}. recall {}.'.format(np.mean(svm_accs),\n",
    "                                                          np.mean(svm_precs),\n",
    "                                                          np.mean(svm_recs)))"
   ]
  },
  {
   "cell_type": "code",
   "execution_count": 97,
   "metadata": {},
   "outputs": [
    {
     "name": "stdout",
     "output_type": "stream",
     "text": [
      "[1]: Naive Bayes | precision: 0.0, recall: 0.0\n",
      "[1]: Random Forest | precision: 0.0, recall: 0.0\n",
      "[1]: Gradient Boosting | precision: 0.0, recall: 0.0\n",
      "[1]: SVM | precision: 0.0, recall: 0.0\n",
      "[1]: Dummy | precision: 0.0, recall: 0.0\n"
     ]
    },
    {
     "data": {
      "image/png": "[encoded data removed]",
      "text/plain": [
       "<matplotlib.figure.Figure at 0x7f6fdf6bcc90>"
      ]
     },
     "metadata": {},
     "output_type": "display_data"
    },
    {
     "name": "stdout",
     "output_type": "stream",
     "text": [
      "[2]: Naive Bayes | precision: 0.5, recall: 0.25\n",
      "[2]: Random Forest | precision: 1.0, recall: 0.25\n",
      "[2]: Gradient Boosting | precision: 0.0, recall: 0.0\n",
      "[2]: SVM | precision: 0.136363636364, recall: 0.75\n",
      "[2]: Dummy | precision: 0.2, recall: 0.25\n"
     ]
    },
    {
     "data": {
      "image/png": "[encoded data removed]",
      "text/plain": [
       "<matplotlib.figure.Figure at 0x7f6fdea86590>"
      ]
     },
     "metadata": {},
     "output_type": "display_data"
    },
    {
     "name": "stdout",
     "output_type": "stream",
     "text": [
      "[3]: Naive Bayes | precision: 0.25, recall: 0.333333333333\n",
      "[3]: Random Forest | precision: 0.5, recall: 0.333333333333\n",
      "[3]: Gradient Boosting | precision: 0.25, recall: 0.333333333333\n",
      "[3]: SVM | precision: 0.0, recall: 0.0\n",
      "[3]: Dummy | precision: 0.0, recall: 0.0\n"
     ]
    },
    {
     "data": {
      "image/png": "[encoded data removed]",
      "text/plain": [
       "<matplotlib.figure.Figure at 0x7f6fde74ad50>"
      ]
     },
     "metadata": {},
     "output_type": "display_data"
    },
    {
     "name": "stdout",
     "output_type": "stream",
     "text": [
      "[4]: Naive Bayes | precision: 0.6, recall: 0.6\n",
      "[4]: Random Forest | precision: 0.666666666667, recall: 0.4\n",
      "[4]: Gradient Boosting | precision: 0.333333333333, recall: 0.2\n",
      "[4]: SVM | precision: 0.5, recall: 0.6\n",
      "[4]: Dummy | precision: 0.333333333333, recall: 0.2\n"
     ]
    },
    {
     "data": {
      "image/png": "[encoded data removed]",
      "text/plain": [
       "<matplotlib.figure.Figure at 0x7f6fde3ee5d0>"
      ]
     },
     "metadata": {},
     "output_type": "display_data"
    },
    {
     "name": "stdout",
     "output_type": "stream",
     "text": [
      "Naive Bayes | average precision: 0.6, average recall: 0.6\n",
      "Random Forest | average precision: 0.541666666667, average recall: 0.245833333333\n",
      "Gradient Boosting | average precision: 0.145833333333, average recall: 0.133333333333\n",
      "SVM | average precision: 0.159090909091, average recall: 0.3375\n",
      "Dummy | average precision: 0.133333333333, average recall: 0.1125\n"
     ]
    }
   ],
   "source": [
    "avg_precision = [0 for _ in clfs]\n",
    "avg_recall = [0 for _ in clfs]\n",
    "for trial, (train_i, test_i) in enumerate(kfold.split(X),1):\n",
    "    for i, (name, clf) in enumerate(zip(names, clfs), 1):\n",
    "        local_clf = clone(clf)\n",
    "        local_clf.fit(X[train_i], y[train_i])\n",
    "        y_pred = local_clf.predict(X[test_i])\n",
    "        precision = precision_score(y[test_i], y_pred)\n",
    "        recall = recall_score(y[test_i], y_pred)\n",
    "        avg_precision[i-1] = precision if i == 1 else (avg_precision[i-1] * (trial-1) + precision) / trial\n",
    "        avg_recall[i-1] = recall if i == 1 else (avg_recall[i-1] * (trial-1) + recall) / trial\n",
    "        print('[{}]: {} | precision: {}, recall: {}'.format(trial, name, precision, recall))\n",
    "        plt.subplot(1,5,i)\n",
    "        cm = confusion_matrix(y[test_i], y_pred)\n",
    "        plot_confusion_matrix(cm, ['True', 'False'], name)\n",
    "    plt.show()\n",
    "for (name, prec, rec) in zip(names, avg_precision, avg_recall):\n",
    "    print('{} | average precision: {}, average recall: {}'.format(name,prec,rec))"
   ]
  },
  {
   "cell_type": "code",
   "execution_count": 96,
   "metadata": {},
   "outputs": [
    {
     "name": "stdout",
     "output_type": "stream",
     "text": [
      "[1]: Naive Bayes | precision: 0.0, recall: 0.0\n",
      "[2]: Naive Bayes | precision: 0.5, recall: 0.25\n",
      "[3]: Naive Bayes | precision: 0.25, recall: 0.333333333333\n",
      "[4]: Naive Bayes | precision: 0.6, recall: 0.6\n"
     ]
    },
    {
     "data": {
      "image/png": "[encoded data removed]",
      "text/plain": [
       "<matplotlib.figure.Figure at 0x7f6fdf6bc390>"
      ]
     },
     "metadata": {},
     "output_type": "display_data"
    },
    {
     "name": "stdout",
     "output_type": "stream",
     "text": [
      "[1]: Random Forest | precision: 0.0, recall: 0.0\n",
      "[2]: Random Forest | precision: 0.0, recall: 0.0\n",
      "[3]: Random Forest | precision: 0.0, recall: 0.0\n",
      "[4]: Random Forest | precision: 0.666666666667, recall: 0.4\n"
     ]
    },
    {
     "data": {
      "image/png": "[encoded data removed]",
      "text/plain": [
       "<matplotlib.figure.Figure at 0x7f6fde7a2150>"
      ]
     },
     "metadata": {},
     "output_type": "display_data"
    },
    {
     "name": "stdout",
     "output_type": "stream",
     "text": [
      "[1]: Gradient Boosting | precision: 0.0, recall: 0.0\n",
      "[2]: Gradient Boosting | precision: 0.0, recall: 0.0\n",
      "[3]: Gradient Boosting | precision: 0.25, recall: 0.333333333333\n",
      "[4]: Gradient Boosting | precision: 0.333333333333, recall: 0.2\n"
     ]
    },
    {
     "data": {
      "image/png": "[encoded data removed]",
      "text/plain": [
       "<matplotlib.figure.Figure at 0x7f6fdeae3750>"
      ]
     },
     "metadata": {},
     "output_type": "display_data"
    },
    {
     "name": "stdout",
     "output_type": "stream",
     "text": [
      "[1]: SVM | precision: 0.0, recall: 0.0\n",
      "[2]: SVM | precision: 0.5, recall: 0.25\n",
      "[3]: SVM | precision: 0.2, recall: 0.333333333333\n",
      "[4]: SVM | precision: 0.0, recall: 0.0\n"
     ]
    },
    {
     "data": {
      "image/png": "[encoded data removed]",
      "text/plain": [
       "<matplotlib.figure.Figure at 0x7f6fdf481810>"
      ]
     },
     "metadata": {},
     "output_type": "display_data"
    },
    {
     "name": "stdout",
     "output_type": "stream",
     "text": [
      "[1]: Dummy | precision: 0.0, recall: 0.0\n",
      "[2]: Dummy | precision: 0.0, recall: 0.0\n",
      "[3]: Dummy | precision: 0.0, recall: 0.0\n",
      "[4]: Dummy | precision: 0.2, recall: 0.2\n"
     ]
    },
    {
     "data": {
      "image/png": "[encoded data removed]",
      "text/plain": [
       "<matplotlib.figure.Figure at 0x7f6fde9532d0>"
      ]
     },
     "metadata": {},
     "output_type": "display_data"
    }
   ],
   "source": [
    "for name, clf in zip(names, clfs):\n",
    "    for i, (train_i, test_i) in enumerate(kfold.split(X), 1):\n",
    "        local_clf = clone(clf)\n",
    "        local_clf.fit(X[train_i], y[train_i])\n",
    "        y_pred = local_clf.predict(X[test_i])\n",
    "        precision = precision_score(y[test_i], y_pred)\n",
    "        recall = recall_score(y[test_i], y_pred)\n",
    "        print('[{}]: {} | precision: {}, recall: {}'.format(i, name, precision, recall))\n",
    "        plt.subplot(1,4,i)\n",
    "        cm = confusion_matrix(y[test_i], y_pred)\n",
    "        plot_confusion_matrix(cm, ['True', 'False'], name)\n",
    "    plt.show()"
   ]
  },
  {
   "cell_type": "code",
   "execution_count": 98,
   "metadata": {
    "collapsed": true
   },
   "outputs": [],
   "source": [
    "from sklearn.metrics import accuracy_score"
   ]
  },
  {
   "cell_type": "code",
   "execution_count": 99,
   "metadata": {
    "collapsed": true
   },
   "outputs": [],
   "source": [
    "clf = GaussianNB()"
   ]
  },
  {
   "cell_type": "code",
   "execution_count": 100,
   "metadata": {
    "collapsed": true
   },
   "outputs": [],
   "source": [
    "accuracies = []\n",
    "for train, test in kfold.split(X):\n",
    "    clf.fit(X[train], y[train])\n",
    "    y_pred = clf.predict(X[test])\n",
    "    accuracies.append(accuracy_score(y[test], y_pred))"
   ]
  },
  {
   "cell_type": "code",
   "execution_count": 101,
   "metadata": {},
   "outputs": [
    {
     "data": {
      "text/plain": [
       "[0.80555555555555558,\n",
       " 0.88888888888888884,\n",
       " 0.86111111111111116,\n",
       " 0.88888888888888884]"
      ]
     },
     "execution_count": 101,
     "metadata": {},
     "output_type": "execute_result"
    }
   ],
   "source": [
    "accuracies"
   ]
  },
  {
   "cell_type": "code",
   "execution_count": 102,
   "metadata": {},
   "outputs": [
    {
     "data": {
      "text/plain": [
       "0.86111111111111105"
      ]
     },
     "execution_count": 102,
     "metadata": {},
     "output_type": "execute_result"
    }
   ],
   "source": [
    "np.average(accuracies)"
   ]
  },
  {
   "cell_type": "code",
   "execution_count": null,
   "metadata": {
    "collapsed": true
   },
   "outputs": [],
   "source": []
  }
 ],
 "metadata": {
  "kernelspec": {
   "display_name": "Python 2",
   "language": "python",
   "name": "python2"
  },
  "language_info": {
   "codemirror_mode": {
    "name": "ipython",
    "version": 2
   },
   "file_extension": ".py",
   "mimetype": "text/x-python",
   "name": "python",
   "nbconvert_exporter": "python",
   "pygments_lexer": "ipython2",
   "version": "2.7.13"
  }
 },
 "nbformat": 4,
 "nbformat_minor": 2
}
